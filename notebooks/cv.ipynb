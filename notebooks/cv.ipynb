{
 "cells": [
  {
   "cell_type": "code",
   "execution_count": 2,
   "metadata": {
    "collapsed": false
   },
   "outputs": [
    {
     "name": "stderr",
     "output_type": "stream",
     "text": [
      "Using Theano backend.\n",
      "/Library/Frameworks/Python.framework/Versions/3.4/lib/python3.4/site-packages/matplotlib/__init__.py:872: UserWarning: axes.color_cycle is deprecated and replaced with axes.prop_cycle; please use the latter.\n",
      "  warnings.warn(self.msg_depr % (key, alt_key))\n"
     ]
    },
    {
     "name": "stdout",
     "output_type": "stream",
     "text": [
      "Couldn't import dot_parser, loading of dot files will not be possible.\n"
     ]
    }
   ],
   "source": [
    "import mhcflurry, seaborn, numpy, pandas, pickle, sklearn, collections, scipy, time, logging\n",
    "import mhcflurry.data\n",
    "import mhcflurry.imputation\n",
    "import fancyimpute\n",
    "\n",
    "import sklearn.metrics\n",
    "import sklearn.cross_validation"
   ]
  },
  {
   "cell_type": "code",
   "execution_count": 3,
   "metadata": {
    "collapsed": true
   },
   "outputs": [],
   "source": [
    "min_peptides_to_consider_allele = 50\n",
    "max_ic50 = 50000\n",
    "data_dir = \"/Users/iskander/code/mhcflurry/\""
   ]
  },
  {
   "cell_type": "code",
   "execution_count": 4,
   "metadata": {
    "collapsed": false
   },
   "outputs": [
    {
     "data": {
      "text/plain": [
       "(           species         mhc  peptide_length   cv      sequence inequality  \\\n",
       " 0             None      ELA-A1              12  TBD  GSQKLTTGNCNW          =   \n",
       " 1             None      ELA-A1              12  TBD  HVKDETNTTEYW          =   \n",
       " 2             None      ELA-A1              12  TBD  LVEDVTNTAEYW          =   \n",
       " 3             None      ELA-A1              12  TBD  RVEDKTNTAEYW          =   \n",
       " 4             None      ELA-A1              12  TBD  RVEDVKNTAEYW          =   \n",
       " 5             None      ELA-A1              12  TBD  RVEDVTLTAEYW          =   \n",
       " 6             None      ELA-A1              12  TBD  RVEDVTNKAEYW          =   \n",
       " 7             None      ELA-A1              12  TBD  RVEDVTNTAELW          =   \n",
       " 8             None      ELA-A1              12  TBD  RVEDVTNTAEYL          =   \n",
       " 9             None      ELA-A1              12  TBD  RVEDVTNTAEYW          =   \n",
       " 10            None      ELA-A1              12  TBD  RVEDVTNTALYW          =   \n",
       " 11            None      ELA-A1              12  TBD  RVEDVTNTKEYW          =   \n",
       " 12            None      ELA-A1              12  TBD  RVEKVTNTAEYW          =   \n",
       " 13            None      ELA-A1              12  TBD  RVLDVTNTAEYW          =   \n",
       " 14         gorilla  Gogo-B0101              10  TBD    RRFVNVVPTF          =   \n",
       " 15         gorilla  Gogo-B0101               9  TBD     ERYLKDQQL          =   \n",
       " 16         gorilla  Gogo-B0101               9  TBD     GRFKLIVLY          =   \n",
       " 17         gorilla  Gogo-B0101               9  TBD     IDFPKTFGW          =   \n",
       " 18         gorilla  Gogo-B0101               9  TBD     IFFPKTFGW          =   \n",
       " 19         gorilla  Gogo-B0101               9  TBD     IKFPKTFGW          =   \n",
       " 20         gorilla  Gogo-B0101               9  TBD     ILFPKTFGW          =   \n",
       " 21         gorilla  Gogo-B0101               9  TBD     INFPKTFGW          =   \n",
       " 22         gorilla  Gogo-B0101               9  TBD     IRFPKTFGW          =   \n",
       " 23         gorilla  Gogo-B0101               9  TBD     IRYPKTFGW          =   \n",
       " 24         gorilla  Gogo-B0101               9  TBD     KRGILTLKY          =   \n",
       " 25         gorilla  Gogo-B0101               9  TBD     KRKKAYADF          =   \n",
       " 26         gorilla  Gogo-B0101               9  TBD     KRYKSIVKY          =   \n",
       " 27         gorilla  Gogo-B0101               9  TBD     RRYQKSTEL          =   \n",
       " 28         gorilla  Gogo-B0101               9  TBD     SRDKTIIMW          =   \n",
       " 29           mouse      H-2-DB              10  TBD    AAAAAAYAAM          =   \n",
       " ...            ...         ...             ...  ...           ...        ...   \n",
       " 137624  chimpanzee  Patr-B2401               9  TBD     SLYLELDTI          =   \n",
       " 137625  chimpanzee  Patr-B2401               9  TBD     SNYLELDTI          =   \n",
       " 137626  chimpanzee  Patr-B2401               9  TBD     SPYLELDTI          =   \n",
       " 137627  chimpanzee  Patr-B2401               9  TBD     SQYLELDTI          =   \n",
       " 137628  chimpanzee  Patr-B2401               9  TBD     SRYLELDTI          =   \n",
       " 137629  chimpanzee  Patr-B2401               9  TBD     SSYLELDTI          =   \n",
       " 137630  chimpanzee  Patr-B2401               9  TBD     STYLELDTI          =   \n",
       " 137631  chimpanzee  Patr-B2401               9  TBD     SVYLELDTI          =   \n",
       " 137632  chimpanzee  Patr-B2401               9  TBD     SYYLELDTI          =   \n",
       " 137633  chimpanzee  Patr-B2401               9  TBD     TDATSILGI          =   \n",
       " 137634  chimpanzee  Patr-B2401               9  TBD     TDNSSPPAV          =   \n",
       " 137635  chimpanzee  Patr-B2401               9  TBD     TDYLELDTI          =   \n",
       " 137636  chimpanzee  Patr-B2401               9  TBD     TEAMTRYSA          =   \n",
       " 137637  chimpanzee  Patr-B2401               9  TBD     TESTLSTAL          =   \n",
       " 137638  chimpanzee  Patr-B2401               9  TBD     TILGIGTVL          >   \n",
       " 137639  chimpanzee  Patr-B2401               9  TBD     VDFIPVENL          =   \n",
       " 137640  chimpanzee  Patr-B2401               9  TBD     VDILAGYGA          =   \n",
       " 137641  chimpanzee  Patr-B2401               9  TBD     VDKNPHNTA          >   \n",
       " 137642  chimpanzee  Patr-B2401               9  TBD     VDPNIRTGV          >   \n",
       " 137643  chimpanzee  Patr-B2401               9  TBD     VDVQYLYGV          =   \n",
       " 137644  chimpanzee  Patr-B2401               9  TBD     VDYLELDTI          =   \n",
       " 137645  chimpanzee  Patr-B2401               9  TBD     VEAQLHVWV          =   \n",
       " 137646  chimpanzee  Patr-B2401               9  TBD     VESENKVVI          =   \n",
       " 137647  chimpanzee  Patr-B2401               9  TBD     WDQMWKCLI          =   \n",
       " 137648  chimpanzee  Patr-B2401               9  TBD     WEQDLQHGA          =   \n",
       " 137649  chimpanzee  Patr-B2401               9  TBD     WETARHTPV          =   \n",
       " 137650  chimpanzee  Patr-B2401               9  TBD     WEYVVLLFL          =   \n",
       " 137651  chimpanzee  Patr-B2401               9  TBD     YAAQGYKVL          >   \n",
       " 137652  chimpanzee  Patr-B2401               9  TBD     YDVVSKLPL          =   \n",
       " 137653  chimpanzee  Patr-B2401               9  TBD     YVQMALMKL          >   \n",
       " \n",
       "                  meas  regression_output  \n",
       " 0          605.000000           0.408007  \n",
       " 1          880.000000           0.373377  \n",
       " 2          170.000000           0.525332  \n",
       " 3           70.000000           0.607340  \n",
       " 4           65.000000           0.614189  \n",
       " 5          150.000000           0.536900  \n",
       " 6           80.000000           0.594998  \n",
       " 7           25.000000           0.702501  \n",
       " 8           97.000000           0.577190  \n",
       " 9           39.000000           0.661401  \n",
       " 10          78.000000           0.597338  \n",
       " 11          36.000000           0.668799  \n",
       " 12         110.000000           0.565566  \n",
       " 13         520.000000           0.422000  \n",
       " 14         196.000000           0.512179  \n",
       " 15       14579.000000           0.113906  \n",
       " 16        3091.000000           0.257263  \n",
       " 17      107383.000000           0.000000  \n",
       " 18        3174.000000           0.254814  \n",
       " 19        3274.000000           0.251947  \n",
       " 20         998.000000           0.361747  \n",
       " 21       23443.000000           0.070006  \n",
       " 22          30.000000           0.685650  \n",
       " 23          54.000000           0.631325  \n",
       " 24         668.000000           0.398852  \n",
       " 25        6115.000000           0.194207  \n",
       " 26         100.000000           0.574375  \n",
       " 27          53.000000           0.633052  \n",
       " 28         128.000000           0.551559  \n",
       " 29        7333.333333           0.177415  \n",
       " ...               ...                ...  \n",
       " 137624   22409.304697           0.074174  \n",
       " 137625    4803.932379           0.216510  \n",
       " 137626    8210.634469           0.166971  \n",
       " 137627    3841.245189           0.237179  \n",
       " 137628   18216.870451           0.093318  \n",
       " 137629   12389.030549           0.128950  \n",
       " 137630   22995.859278           0.071786  \n",
       " 137631    1504.790451           0.323793  \n",
       " 137632   21620.468423           0.077486  \n",
       " 137633       9.565772           0.791290  \n",
       " 137634      69.913924           0.607454  \n",
       " 137635      12.150058           0.769188  \n",
       " 137636   36866.750907           0.028163  \n",
       " 137637   52196.730666           0.000000  \n",
       " 137638   78125.000000           0.000000  \n",
       " 137639    1304.671425           0.336982  \n",
       " 137640    1529.550065           0.322285  \n",
       " 137641   78125.000000           0.000000  \n",
       " 137642   78125.000000           0.000000  \n",
       " 137643      26.168385           0.698279  \n",
       " 137644       8.751466           0.799513  \n",
       " 137645   11679.657915           0.134400  \n",
       " 137646   12912.904034           0.125122  \n",
       " 137647      45.677950           0.646794  \n",
       " 137648   58495.538057           0.000000  \n",
       " 137649   21366.204458           0.078579  \n",
       " 137650    3422.601957           0.247844  \n",
       " 137651   78125.000000           0.000000  \n",
       " 137652     281.737403           0.478642  \n",
       " 137653   78125.000000           0.000000  \n",
       " \n",
       " [137654 rows x 8 columns], 'sequence')"
      ]
     },
     "execution_count": 4,
     "metadata": {},
     "output_type": "execute_result"
    }
   ],
   "source": [
    "mhcflurry.data.load_dataframe(\n",
    "        filename=data_dir + \"bdata.2009.mhci.public.1.txt\",\n",
    "        max_ic50=max_ic50,\n",
    "        sep=None,\n",
    "        species_column_name=\"species\",\n",
    "        allele_column_name=\"mhc\",\n",
    "        peptide_column_name=None,\n",
    "        filter_peptide_length=None,\n",
    "        ic50_column_name=\"meas\",\n",
    "        only_human=False)"
   ]
  },
  {
   "cell_type": "code",
   "execution_count": 5,
   "metadata": {
    "collapsed": false
   },
   "outputs": [],
   "source": [
    "all_train_data = mhcflurry.data.load_allele_datasets(\n",
    "    data_dir + \"bdata.2009.mhci.public.1.txt\",\n",
    "    use_multiple_peptide_lengths=True)"
   ]
  },
  {
   "cell_type": "code",
   "execution_count": 6,
   "metadata": {
    "collapsed": false
   },
   "outputs": [],
   "source": [
    "alleles = [\n",
    "    \"HLA-A0201\",\n",
    "    # \"HLA-A0301\",\n",
    "    # \"HLA-A0203\",\n",
    "    # \"HLA-A2602\",\n",
    "    # \"HLA-A2603\",\n",
    "    # 'HLA-B7301',\n",
    "]\n",
    "#alleles = alleles[:1] + alleles[-1:]\n",
    "#alleles = [allele for allele in all_train_data if len(all_train_data[allele].Y) >= min_peptides_to_consider_allele]"
   ]
  },
  {
   "cell_type": "code",
   "execution_count": 7,
   "metadata": {
    "collapsed": false
   },
   "outputs": [
    {
     "data": {
      "text/plain": [
       "0.36749263596306014"
      ]
     },
     "execution_count": 7,
     "metadata": {},
     "output_type": "execute_result"
    }
   ],
   "source": [
    "all_train_data[alleles[0]].weights.std()"
   ]
  },
  {
   "cell_type": "code",
   "execution_count": null,
   "metadata": {
    "collapsed": true
   },
   "outputs": [],
   "source": []
  },
  {
   "cell_type": "code",
   "execution_count": 8,
   "metadata": {
    "collapsed": false
   },
   "outputs": [
    {
     "data": {
      "text/plain": [
       "{8, 9, 10, 11, 12, 13, 14, 15}"
      ]
     },
     "execution_count": 8,
     "metadata": {},
     "output_type": "execute_result"
    }
   ],
   "source": [
    "set(len(x) for x in all_train_data[alleles[0]].original_peptides)"
   ]
  },
  {
   "cell_type": "code",
   "execution_count": 9,
   "metadata": {
    "collapsed": false
   },
   "outputs": [],
   "source": [
    "#sorted(dict((allele, len(all_train_data[allele].Y)) for allele in all_train_data).items(), key=lambda pair: -1*pair[1])"
   ]
  },
  {
   "cell_type": "code",
   "execution_count": 10,
   "metadata": {
    "collapsed": false
   },
   "outputs": [
    {
     "name": "stdout",
     "output_type": "stream",
     "text": [
      "Training data: 1 / 106 alleles\n"
     ]
    }
   ],
   "source": [
    "#train_data = dict((allele, data)\n",
    "#                  for (allele, data) in all_train_data.items()\n",
    "#                  if len(data.Y) >= min_peptides_to_consider_allele)\n",
    "train_data = dict((allele, all_train_data[allele]) for allele in alleles)\n",
    "print(\"Training data: %d / %d alleles\" % (len(train_data), len(all_train_data)))\n",
    "\n",
    "#test_data = mhcflurry.data.load_allele_datasets(\"/Users/tim/sinai/git/mhcflurry/bdata.2013.mhci.public.blind.1.txt\")\n"
   ]
  },
  {
   "cell_type": "code",
   "execution_count": 11,
   "metadata": {
    "collapsed": false
   },
   "outputs": [],
   "source": [
    "def log_to_ic50(log_value):\n",
    "        \"\"\"\n",
    "        Convert neural network output to IC50 values between 0.0 and\n",
    "        self.max_ic50 (typically 5000, 20000 or 50000)\n",
    "        \"\"\"\n",
    "        return max_ic50 ** (1.0 - log_value)\n",
    "\n",
    "def make_scores(y, y_pred, weights=None, sample_weight=None, threshold_nm=500):\n",
    "    ic50_y = log_to_ic50(y)\n",
    "    ic50_y_pred = log_to_ic50(y_pred) \n",
    "    return dict(\n",
    "        auc=sklearn.metrics.roc_auc_score(ic50_y <= threshold_nm, y_pred, sample_weight=sample_weight),\n",
    "        f1=sklearn.metrics.f1_score(ic50_y <= threshold_nm, ic50_y_pred <= threshold_nm, sample_weight=sample_weight),\n",
    "        tau=scipy.stats.kendalltau(y_pred, y)[0],\n",
    "    )    \n",
    "\n",
    "def mean_with_std(grouped_column, decimals=3):\n",
    "    pattern = \"%%0.%df\" % decimals\n",
    "    return pandas.Series([\n",
    "        (pattern + \" +/ \" + pattern) % (m, s) if not pandas.isnull(s) else pattern % m\n",
    "        for (m, s) in zip(grouped_column.mean(), grouped_column.std())\n",
    "    ], index = grouped_column.mean().index)\n",
    "\n",
    "def allele_data_to_df(data):\n",
    "    d = data._asdict()\n",
    "    d[\"X_index\"] = [x for x in d[\"X_index\"]]\n",
    "    d[\"X_binary\"] = [x for x in d[\"X_binary\"]]\n",
    "    df = pandas.DataFrame(d).set_index('peptides')\n",
    "    return df\n",
    "\n",
    "def make_2d_array(thing):\n",
    "    return numpy.array([list(x) for x in thing])\n",
    "\n",
    "def df_to_allele_data(df):\n",
    "    d = dict((col, df[col].values) for col in df)\n",
    "    d[\"X_index\"] = make_2d_array(d[\"X_index\"])\n",
    "    (d[\"max_ic50\"],) = list(df.max_ic50.unique())\n",
    "    return mhcflurry.data.AlleleData(peptides = df.index.values, **d)\n"
   ]
  },
  {
   "cell_type": "code",
   "execution_count": 12,
   "metadata": {
    "collapsed": false
   },
   "outputs": [
    {
     "name": "stdout",
     "output_type": "stream",
     "text": [
      "48 models\n"
     ]
    },
    {
     "data": {
      "text/plain": [
       "{'activation', 'dropout_probability', 'embedding_output_dim', 'layer_sizes'}"
      ]
     },
     "execution_count": 12,
     "metadata": {},
     "output_type": "execute_result"
    }
   ],
   "source": [
    "dropout_probabilities = [0.0, 0.1, 0.5]\n",
    "\n",
    "embedding_output_dims = [16, 32, 64, 128]\n",
    "#embedding_output_dims = [4, 32]\n",
    "\n",
    "#layer_sizes = [[4], [8], [16], [64], [128]]\n",
    "layer_sizes_list = [[16], [64], [100], [128]]\n",
    "\n",
    "activations = [\"tanh\"]\n",
    "\n",
    "models_params_list = []\n",
    "for dropout_probability in dropout_probabilities:\n",
    "    for embedding_output_dim in embedding_output_dims:\n",
    "        for layer_sizes in layer_sizes_list:\n",
    "            for activation in activations:\n",
    "                models_params_list.append(dict(\n",
    "                    dropout_probability=dropout_probability,  \n",
    "                    embedding_output_dim=embedding_output_dim,\n",
    "                    layer_sizes=layer_sizes,\n",
    "                    activation=activation))\n",
    "\n",
    "print(\"%d models\" % len(models_params_list))\n",
    "models_params_explored = set.union(*[set(x) for x in models_params_list])\n",
    "models_params_explored\n"
   ]
  },
  {
   "cell_type": "code",
   "execution_count": null,
   "metadata": {
    "collapsed": false,
    "scrolled": false
   },
   "outputs": [
    {
     "name": "stdout",
     "output_type": "stream",
     "text": [
      "Allele: HLA-A0201\n",
      "-- fold #1/3\n",
      "Training peptides: ['AAAATCALV' 'AAAKAAAAV' 'AAAWYLWEV' 'AADFPGIAR' 'AADKAAAAY' 'AADLTQIFEV'\n",
      " 'AADLTQIFEV' 'AADLTQIFEV' 'AADLTQIFEV' 'AADLTQIFEV' 'AADLTQIFEV'\n",
      " 'AADLTQIFEV' 'AADLTQIFEV' 'AADLTQIFEV' 'AADLTQIFEV' 'AAEQRRSTI'\n",
      " 'AAFEDLRLL' 'AAGAAVKGV' 'AAGLPAIFV' 'AAGLQDCTMLV']...\n",
      "Test peptides: ['AAAKTPVIV' 'AAAKTPVIVV' 'AAAKTPVIVV' 'AAAKTPVIVV' 'AAAKTPVIVV'\n",
      " 'AAAKTPVIVV' 'AAAKTPVIVV' 'AAAKTPVIVV' 'AAAKTPVIVV' 'AAAKTPVIVV'\n",
      " 'AAAKTPVIVV' 'AAASSLLYK' 'AAASSTHRKV' 'AAASSTHRKV' 'AAASSTHRKV'\n",
      " 'AAASSTHRKV' 'AAASSTHRKV' 'AAASSTHRKV' 'AAASSTHRKV' 'AAASSTHRKV']...\n",
      "-- # training samples = 21917\n",
      "-- # test samples = 10959\n",
      "-- X_index shape for CV fold: (21917, 9)\n",
      "Training Y min=0.000000, mean=0.335157, max=1.000000, sum=7345.631061, n=21917\n",
      "Training weights min=0.100000, mean=0.290961, max=1.000000, sum=6377.000000\n",
      " HLA-A0201 fold   0 [  0 /  48] train_size=21917 test_size=10959 impute=False model={'activation': 'tanh', 'dropout_probability': 0.0, 'layer_sizes': [16], 'embedding_output_dim': 16}\n"
     ]
    }
   ],
   "source": [
    "import sys\n",
    "\n",
    "cv_df = collections.defaultdict(list)\n",
    "start = time.time()\n",
    "#for (allele, data) in list(train_data.items())[:1]:\n",
    "for (allele, data) in train_data.items():\n",
    "    print(\"Allele: %s\" % allele)\n",
    "    data_df = allele_data_to_df(data)\n",
    "    cv = sklearn.cross_validation.LabelKFold(data.original_peptides, n_folds = 3)\n",
    "    for (fold_num, (train_indices, test_indices)) in enumerate(cv):\n",
    "        print(\"-- fold #%d/3\" % (fold_num + 1,))\n",
    "        for impute in [False]:\n",
    "            train_df = data_df.iloc[train_indices]\n",
    "            test_df = data_df.iloc[test_indices]\n",
    "            print(\"Training peptides: %s...\" % (data.original_peptides[train_indices][:20],))\n",
    "            \n",
    "            print(\"Test peptides: %s...\" % (data.original_peptides[test_indices][:20],))\n",
    "            print(\"-- # training samples = %d\" % (len(train_df),))\n",
    "            print(\"-- # test samples = %d\" % (len(test_df),))\n",
    "            sys.stdout.flush()\n",
    "            if impute:\n",
    "                full_train_allele_data = dict(train_data)\n",
    "                full_train_allele_data[allele] = df_to_allele_data(train_df)\n",
    "                train_imputed_dict = mhcflurry.imputation.create_imputed_datasets(\n",
    "                    all_train_data,\n",
    "                    fancyimpute.mice.MICE(),\n",
    "                    min_observations_per_peptide=1,\n",
    "                    min_observations_per_allele=50)\n",
    "                X_pretrain = train_imputed_dict[allele].X_index\n",
    "                Y_pretrain = train_imputed_dict[allele].Y\n",
    "                sample_weights_pretrain = train_imputed_dict[allele].weights\n",
    "                \n",
    "                # gotta shuffle the samples or else everything in a mini-batch is correlated\n",
    "                pretrain_shuffle_indices = np.arange(len(X_pretrain))\n",
    "                np.random.shuffle(pretrain_shuffle_indices)\n",
    "                X_pretrain = X_pretrain[pretrain_shuffle_indices]\n",
    "                Y_pretrain = Y_pretrain[pretrain_shuffle_indices]\n",
    "                sample_weights_pretrain = sample_weights_pretrain[pretrain_shuffle_indices]\n",
    "                \n",
    "                \n",
    "            else:\n",
    "                X_pretrain = Y_pretrain = sample_weights_pretrain = None\n",
    "            \n",
    "            X_cv_fold = make_2d_array(train_df.X_index)\n",
    "            print(\"-- X_index shape for CV fold: %s\" % (X_cv_fold.shape,))\n",
    "            sys.stdout.flush()\n",
    "            Y_cv_fold = train_df.Y\n",
    "            assert len(X_cv_fold) == len(Y_cv_fold)\n",
    "            weights_cv_fold = train_df.weights\n",
    "            assert len(X_cv_fold) == len(weights_cv_fold)\n",
    "            \n",
    "            # shuffle all the samples!\n",
    "            shuffle_indices = np.arange(len(X_cv_fold))\n",
    "            np.random.shuffle(shuffle_indices)\n",
    "            X_cv_fold = X_cv_fold[shuffle_indices]\n",
    "            Y_cv_fold = Y_cv_fold[shuffle_indices]\n",
    "            weights_cv_fold = weights_cv_fold[shuffle_indices]\n",
    "            \n",
    "            X_cv_fold_test = make_2d_array(test_df.X_index)\n",
    "            Y_cv_fold_test = test_df.Y\n",
    "            \n",
    "            print(\"Training Y min=%f, mean=%f, max=%f, sum=%f, n=%d\" % (\n",
    "                Y_cv_fold.min(),\n",
    "                Y_cv_fold.mean(),\n",
    "                Y_cv_fold.max(),\n",
    "                Y_cv_fold.sum(),\n",
    "                len(Y_cv_fold)))\n",
    "            print(\"Training weights min=%f, mean=%f, max=%f, sum=%f\" % (\n",
    "                weights_cv_fold.min(),\n",
    "                weights_cv_fold.mean(),\n",
    "                weights_cv_fold.max(),\n",
    "                weights_cv_fold.sum()\n",
    "                ))\n",
    "                \n",
    "            for (i, model_params) in enumerate(models_params_list):\n",
    "                print(\"%10s fold %3d [%3d / %3d] train_size=%d test_size=%d impute=%s model=%s\" %\n",
    "                      (allele, fold_num, i, len(models_params_list), len(train_indices), len(test_indices), impute, model_params))\n",
    "                sys.stdout.flush()\n",
    "                model = mhcflurry.Class1BindingPredictor.from_hyperparameters(\n",
    "                    max_ic50=max_ic50,\n",
    "                    **model_params)\n",
    "\n",
    "                fit_time = -time.time()\n",
    "                model.fit(\n",
    "                    X_cv_fold,\n",
    "                    Y_cv_fold,\n",
    "                    sample_weights=weights_cv_fold,\n",
    "                    X_pretrain=X_pretrain,\n",
    "                    Y_pretrain=Y_pretrain,\n",
    "                    sample_weights_pretrain=sample_weights_pretrain,\n",
    "                    verbose=False,\n",
    "                    n_training_epochs=100)\n",
    "                fit_time += time.time()\n",
    "                test_predictions = model.predict(X_cv_fold_test)\n",
    "                train_predictions = model.predict(X_cv_fold)\n",
    "                cv_df[\"allele\"].append(allele)\n",
    "                cv_df[\"allele_size\"].append(Y_cv_fold)\n",
    "                cv_df[\"train_size\"].append(Y_cv_fold)\n",
    "                cv_df[\"model_params\"].append(model_params)\n",
    "                #cv_df[\"model\"].append(model)\n",
    "                cv_df[\"impute\"].append(impute)\n",
    "                cv_df[\"imputed_size\"].append(len(Y_pretrain) if Y_pretrain is not None else None)\n",
    "                cv_df[\"fit_time\"].append(fit_time)\n",
    "\n",
    "                for (param, param_value) in model_params.items():\n",
    "                    cv_df[param].append(param_value)\n",
    "                for (key, value) in make_scores(Y_cv_fold_test, test_predictions, test_df.weights).items():\n",
    "                    cv_df[\"test_%s\" % key].append(value)\n",
    "                    print(\"test %s: %f\" % (key, value))\n",
    "                for (key, value) in make_scores(Y_cv_fold, train_predictions, train_df.weights).items():\n",
    "                    cv_df[\"train_%s\" % key].append(value)\n",
    "                    print(\"train %s: %f\" % (key, value))\n",
    "\n",
    "\n",
    "cv_df = pandas.DataFrame(cv_df)\n",
    "cv_df[\"layer0_size\"] = [x[0] for x in cv_df.layer_sizes]\n",
    "print(time.time() - start)\n",
    "cv_df"
   ]
  },
  {
   "cell_type": "code",
   "execution_count": null,
   "metadata": {
    "collapsed": false
   },
   "outputs": [],
   "source": [
    "train_data[\"HLA-A0201\"].X_index.shape"
   ]
  },
  {
   "cell_type": "code",
   "execution_count": null,
   "metadata": {
    "collapsed": false,
    "scrolled": false
   },
   "outputs": [],
   "source": [
    "cv_df = pandas.DataFrame(cv_df)\n",
    "cv_df[\"layer0_size\"] = [x[0] for x in cv_df.layer_sizes]\n",
    "cv_df"
   ]
  },
  {
   "cell_type": "code",
   "execution_count": null,
   "metadata": {
    "collapsed": false,
    "scrolled": false
   },
   "outputs": [],
   "source": [
    "cv_df.to_csv(\"cv4.csv\")"
   ]
  },
  {
   "cell_type": "code",
   "execution_count": null,
   "metadata": {
    "collapsed": false
   },
   "outputs": [],
   "source": [
    "group_columns = [\"allele\", \"allele_size\", \"impute\"]\n",
    "group_columns.extend(models_params_explored)\n",
    "group_columns.append(\"layer0_size\")\n",
    "group_columns.remove(\"layer_sizes\")\n",
    "print(mean_with_std(cv_df.groupby(group_columns).test_auc)) #.sort(inplace=False, ascending=False)\n",
    "\n"
   ]
  },
  {
   "cell_type": "code",
   "execution_count": 13,
   "metadata": {
    "collapsed": true
   },
   "outputs": [],
   "source": [
    "def best_by(score):\n",
    "    means = cv_df.groupby(group_columns)[score].mean().reset_index()\n",
    "    max_rows = []\n",
    "    for allele in means.allele.unique():\n",
    "        max_rows.append(means.ix[means.allele == allele][score].argmax())\n",
    "    return means.ix[max_rows]"
   ]
  },
  {
   "cell_type": "code",
   "execution_count": 14,
   "metadata": {
    "collapsed": false
   },
   "outputs": [
    {
     "data": {
      "text/html": [
       "<div>\n",
       "<table border=\"1\" class=\"dataframe\">\n",
       "  <thead>\n",
       "    <tr style=\"text-align: right;\">\n",
       "      <th></th>\n",
       "      <th>allele</th>\n",
       "      <th>allele_size</th>\n",
       "      <th>impute</th>\n",
       "      <th>embedding_output_dim</th>\n",
       "      <th>activation</th>\n",
       "      <th>layer0_size</th>\n",
       "      <th>test_auc</th>\n",
       "    </tr>\n",
       "  </thead>\n",
       "  <tbody>\n",
       "    <tr>\n",
       "      <th>31</th>\n",
       "      <td>HLA-A0201</td>\n",
       "      <td>32876</td>\n",
       "      <td>True</td>\n",
       "      <td>10</td>\n",
       "      <td>tanh</td>\n",
       "      <td>8</td>\n",
       "      <td>0.875208</td>\n",
       "    </tr>\n",
       "    <tr>\n",
       "      <th>76</th>\n",
       "      <td>HLA-A0203</td>\n",
       "      <td>19879</td>\n",
       "      <td>True</td>\n",
       "      <td>5</td>\n",
       "      <td>tanh</td>\n",
       "      <td>8</td>\n",
       "      <td>0.828529</td>\n",
       "    </tr>\n",
       "    <tr>\n",
       "      <th>125</th>\n",
       "      <td>HLA-A0301</td>\n",
       "      <td>19970</td>\n",
       "      <td>True</td>\n",
       "      <td>5</td>\n",
       "      <td>tanh</td>\n",
       "      <td>4</td>\n",
       "      <td>0.827136</td>\n",
       "    </tr>\n",
       "    <tr>\n",
       "      <th>165</th>\n",
       "      <td>HLA-A2602</td>\n",
       "      <td>202</td>\n",
       "      <td>False</td>\n",
       "      <td>64</td>\n",
       "      <td>tanh</td>\n",
       "      <td>4</td>\n",
       "      <td>0.960650</td>\n",
       "    </tr>\n",
       "    <tr>\n",
       "      <th>248</th>\n",
       "      <td>HLA-A2603</td>\n",
       "      <td>205</td>\n",
       "      <td>True</td>\n",
       "      <td>128</td>\n",
       "      <td>tanh</td>\n",
       "      <td>64</td>\n",
       "      <td>0.919985</td>\n",
       "    </tr>\n",
       "    <tr>\n",
       "      <th>286</th>\n",
       "      <td>HLA-B7301</td>\n",
       "      <td>115</td>\n",
       "      <td>True</td>\n",
       "      <td>32</td>\n",
       "      <td>tanh</td>\n",
       "      <td>8</td>\n",
       "      <td>0.854248</td>\n",
       "    </tr>\n",
       "  </tbody>\n",
       "</table>\n",
       "</div>"
      ],
      "text/plain": [
       "        allele  allele_size impute  embedding_output_dim activation  \\\n",
       "31   HLA-A0201        32876   True                    10       tanh   \n",
       "76   HLA-A0203        19879   True                     5       tanh   \n",
       "125  HLA-A0301        19970   True                     5       tanh   \n",
       "165  HLA-A2602          202  False                    64       tanh   \n",
       "248  HLA-A2603          205   True                   128       tanh   \n",
       "286  HLA-B7301          115   True                    32       tanh   \n",
       "\n",
       "     layer0_size  test_auc  \n",
       "31             8  0.875208  \n",
       "76             8  0.828529  \n",
       "125            4  0.827136  \n",
       "165            4  0.960650  \n",
       "248           64  0.919985  \n",
       "286            8  0.854248  "
      ]
     },
     "execution_count": 14,
     "metadata": {},
     "output_type": "execute_result"
    }
   ],
   "source": [
    "best_by('test_auc')\n"
   ]
  },
  {
   "cell_type": "code",
   "execution_count": 15,
   "metadata": {
    "collapsed": false,
    "scrolled": true
   },
   "outputs": [
    {
     "data": {
      "text/html": [
       "<div>\n",
       "<table border=\"1\" class=\"dataframe\">\n",
       "  <thead>\n",
       "    <tr style=\"text-align: right;\">\n",
       "      <th></th>\n",
       "      <th>allele</th>\n",
       "      <th>allele_size</th>\n",
       "      <th>impute</th>\n",
       "      <th>embedding_output_dim</th>\n",
       "      <th>activation</th>\n",
       "      <th>layer0_size</th>\n",
       "      <th>test_tau</th>\n",
       "    </tr>\n",
       "  </thead>\n",
       "  <tbody>\n",
       "    <tr>\n",
       "      <th>31</th>\n",
       "      <td>HLA-A0201</td>\n",
       "      <td>32876</td>\n",
       "      <td>True</td>\n",
       "      <td>10</td>\n",
       "      <td>tanh</td>\n",
       "      <td>8</td>\n",
       "      <td>0.508779</td>\n",
       "    </tr>\n",
       "    <tr>\n",
       "      <th>75</th>\n",
       "      <td>HLA-A0203</td>\n",
       "      <td>19879</td>\n",
       "      <td>True</td>\n",
       "      <td>5</td>\n",
       "      <td>tanh</td>\n",
       "      <td>4</td>\n",
       "      <td>0.489796</td>\n",
       "    </tr>\n",
       "    <tr>\n",
       "      <th>125</th>\n",
       "      <td>HLA-A0301</td>\n",
       "      <td>19970</td>\n",
       "      <td>True</td>\n",
       "      <td>5</td>\n",
       "      <td>tanh</td>\n",
       "      <td>4</td>\n",
       "      <td>0.470644</td>\n",
       "    </tr>\n",
       "    <tr>\n",
       "      <th>161</th>\n",
       "      <td>HLA-A2602</td>\n",
       "      <td>202</td>\n",
       "      <td>False</td>\n",
       "      <td>32</td>\n",
       "      <td>tanh</td>\n",
       "      <td>8</td>\n",
       "      <td>0.630461</td>\n",
       "    </tr>\n",
       "    <tr>\n",
       "      <th>241</th>\n",
       "      <td>HLA-A2603</td>\n",
       "      <td>205</td>\n",
       "      <td>True</td>\n",
       "      <td>64</td>\n",
       "      <td>tanh</td>\n",
       "      <td>8</td>\n",
       "      <td>0.391268</td>\n",
       "    </tr>\n",
       "    <tr>\n",
       "      <th>286</th>\n",
       "      <td>HLA-B7301</td>\n",
       "      <td>115</td>\n",
       "      <td>True</td>\n",
       "      <td>32</td>\n",
       "      <td>tanh</td>\n",
       "      <td>8</td>\n",
       "      <td>0.452451</td>\n",
       "    </tr>\n",
       "  </tbody>\n",
       "</table>\n",
       "</div>"
      ],
      "text/plain": [
       "        allele  allele_size impute  embedding_output_dim activation  \\\n",
       "31   HLA-A0201        32876   True                    10       tanh   \n",
       "75   HLA-A0203        19879   True                     5       tanh   \n",
       "125  HLA-A0301        19970   True                     5       tanh   \n",
       "161  HLA-A2602          202  False                    32       tanh   \n",
       "241  HLA-A2603          205   True                    64       tanh   \n",
       "286  HLA-B7301          115   True                    32       tanh   \n",
       "\n",
       "     layer0_size  test_tau  \n",
       "31             8  0.508779  \n",
       "75             4  0.489796  \n",
       "125            4  0.470644  \n",
       "161            8  0.630461  \n",
       "241            8  0.391268  \n",
       "286            8  0.452451  "
      ]
     },
     "execution_count": 15,
     "metadata": {},
     "output_type": "execute_result"
    }
   ],
   "source": [
    "best_by('test_tau')"
   ]
  },
  {
   "cell_type": "code",
   "execution_count": 16,
   "metadata": {
    "collapsed": false
   },
   "outputs": [
    {
     "data": {
      "text/html": [
       "<div>\n",
       "<table border=\"1\" class=\"dataframe\">\n",
       "  <thead>\n",
       "    <tr style=\"text-align: right;\">\n",
       "      <th></th>\n",
       "      <th>allele</th>\n",
       "      <th>allele_size</th>\n",
       "      <th>impute</th>\n",
       "      <th>embedding_output_dim</th>\n",
       "      <th>activation</th>\n",
       "      <th>layer0_size</th>\n",
       "      <th>test_f1</th>\n",
       "    </tr>\n",
       "  </thead>\n",
       "  <tbody>\n",
       "    <tr>\n",
       "      <th>0</th>\n",
       "      <td>HLA-A0201</td>\n",
       "      <td>32876</td>\n",
       "      <td>False</td>\n",
       "      <td>5</td>\n",
       "      <td>tanh</td>\n",
       "      <td>4</td>\n",
       "      <td>0.702868</td>\n",
       "    </tr>\n",
       "    <tr>\n",
       "      <th>76</th>\n",
       "      <td>HLA-A0203</td>\n",
       "      <td>19879</td>\n",
       "      <td>True</td>\n",
       "      <td>5</td>\n",
       "      <td>tanh</td>\n",
       "      <td>8</td>\n",
       "      <td>0.691566</td>\n",
       "    </tr>\n",
       "    <tr>\n",
       "      <th>125</th>\n",
       "      <td>HLA-A0301</td>\n",
       "      <td>19970</td>\n",
       "      <td>True</td>\n",
       "      <td>5</td>\n",
       "      <td>tanh</td>\n",
       "      <td>4</td>\n",
       "      <td>0.645124</td>\n",
       "    </tr>\n",
       "    <tr>\n",
       "      <th>161</th>\n",
       "      <td>HLA-A2602</td>\n",
       "      <td>202</td>\n",
       "      <td>False</td>\n",
       "      <td>32</td>\n",
       "      <td>tanh</td>\n",
       "      <td>8</td>\n",
       "      <td>0.868255</td>\n",
       "    </tr>\n",
       "    <tr>\n",
       "      <th>248</th>\n",
       "      <td>HLA-A2603</td>\n",
       "      <td>205</td>\n",
       "      <td>True</td>\n",
       "      <td>128</td>\n",
       "      <td>tanh</td>\n",
       "      <td>64</td>\n",
       "      <td>0.623810</td>\n",
       "    </tr>\n",
       "    <tr>\n",
       "      <th>270</th>\n",
       "      <td>HLA-B7301</td>\n",
       "      <td>115</td>\n",
       "      <td>False</td>\n",
       "      <td>128</td>\n",
       "      <td>tanh</td>\n",
       "      <td>4</td>\n",
       "      <td>0.321429</td>\n",
       "    </tr>\n",
       "  </tbody>\n",
       "</table>\n",
       "</div>"
      ],
      "text/plain": [
       "        allele  allele_size impute  embedding_output_dim activation  \\\n",
       "0    HLA-A0201        32876  False                     5       tanh   \n",
       "76   HLA-A0203        19879   True                     5       tanh   \n",
       "125  HLA-A0301        19970   True                     5       tanh   \n",
       "161  HLA-A2602          202  False                    32       tanh   \n",
       "248  HLA-A2603          205   True                   128       tanh   \n",
       "270  HLA-B7301          115  False                   128       tanh   \n",
       "\n",
       "     layer0_size   test_f1  \n",
       "0              4  0.702868  \n",
       "76             8  0.691566  \n",
       "125            4  0.645124  \n",
       "161            8  0.868255  \n",
       "248           64  0.623810  \n",
       "270            4  0.321429  "
      ]
     },
     "execution_count": 16,
     "metadata": {},
     "output_type": "execute_result"
    }
   ],
   "source": [
    "best_by('test_f1')"
   ]
  }
 ],
 "metadata": {
  "kernelspec": {
   "display_name": "Python 3",
   "language": "python",
   "name": "python3"
  },
  "language_info": {
   "codemirror_mode": {
    "name": "ipython",
    "version": 3
   },
   "file_extension": ".py",
   "mimetype": "text/x-python",
   "name": "python",
   "nbconvert_exporter": "python",
   "pygments_lexer": "ipython3",
   "version": "3.4.3"
  }
 },
 "nbformat": 4,
 "nbformat_minor": 0
}
