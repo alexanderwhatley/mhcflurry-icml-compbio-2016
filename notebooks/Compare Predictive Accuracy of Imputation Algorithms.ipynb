{
 "cells": [
  {
   "cell_type": "code",
   "execution_count": 2,
   "metadata": {
    "collapsed": false
   },
   "outputs": [
    {
     "name": "stdout",
     "output_type": "stream",
     "text": [
      "Couldn't import dot_parser, loading of dot files will not be possible.\n"
     ]
    },
    {
     "name": "stderr",
     "output_type": "stream",
     "text": [
      "Using Theano backend.\n"
     ]
    }
   ],
   "source": [
    "import mhcflurry\n",
    "from mhcflurry.dataset import Dataset\n",
    "import os\n",
    "from collections import defaultdict"
   ]
  },
  {
   "cell_type": "code",
   "execution_count": 3,
   "metadata": {
    "collapsed": false
   },
   "outputs": [
    {
     "data": {
      "text/plain": [
       "Dataset(n=137654, alleles=['ELA-A1', 'Gogo-B0101', 'H-2-DB', 'H-2-DD', 'H-2-KB', 'H-2-KD', 'H-2-KK', 'H-2-LD', 'HLA-A0101', 'HLA-A0201', 'HLA-A0202', 'HLA-A0203', 'HLA-A0205', 'HLA-A0206', 'HLA-A0207', 'HLA-A0210', 'HLA-A0211', 'HLA-A0212', 'HLA-A0216', 'HLA-A0219', 'HLA-A0250', 'HLA-A0301', 'HLA-A0302', 'HLA-A11', 'HLA-A1101', 'HLA-A2', 'HLA-A2301', 'HLA-A2402', 'HLA-A2403', 'HLA-A2501', 'HLA-A26', 'HLA-A2601', 'HLA-A2602', 'HLA-A2603', 'HLA-A2902', 'HLA-A3001', 'HLA-A3002', 'HLA-A3101', 'HLA-A3201', 'HLA-A3301', 'HLA-A6601', 'HLA-A6801', 'HLA-A6802', 'HLA-A6901', 'HLA-A8001', 'HLA-B0702', 'HLA-B0801', 'HLA-B0802', 'HLA-B0803', 'HLA-B1402', 'HLA-B1501', 'HLA-B1502', 'HLA-B1503', 'HLA-B1509', 'HLA-B1517', 'HLA-B1801', 'HLA-B2701', 'HLA-B2702', 'HLA-B2703', 'HLA-B2705', 'HLA-B3501', 'HLA-B3503', 'HLA-B3508', 'HLA-B3801', 'HLA-B3901', 'HLA-B4001', 'HLA-B4002', 'HLA-B4201', 'HLA-B44', 'HLA-B4402', 'HLA-B4403', 'HLA-B4501', 'HLA-B4601', 'HLA-B4801', 'HLA-B5101', 'HLA-B5301', 'HLA-B5401', 'HLA-B5701', 'HLA-B5801', 'HLA-B5802', 'HLA-B7', 'HLA-B7301', 'HLA-E0101', 'Mamu-A01', 'Mamu-A02', 'Mamu-A07', 'Mamu-A11', 'Mamu-A2201', 'Mamu-A2601', 'Mamu-B01', 'Mamu-B03', 'Mamu-B04', 'Mamu-B08', 'Mamu-B17', 'Mamu-B52', 'Patr-A0101', 'Patr-A0301', 'Patr-A0401', 'Patr-A0602', 'Patr-A0701', 'Patr-A0901', 'Patr-B0101', 'Patr-B0901', 'Patr-B1301', 'Patr-B1701', 'Patr-B2401'])"
      ]
     },
     "execution_count": 3,
     "metadata": {},
     "output_type": "execute_result"
    }
   ],
   "source": [
    "bd2009 = Dataset.from_csv(\"../data/bdata.2009.mhci.public.1.txt\")\n",
    "bd2009"
   ]
  },
  {
   "cell_type": "code",
   "execution_count": 5,
   "metadata": {
    "collapsed": false
   },
   "outputs": [],
   "source": [
    "bd2009_dict = bd2009.to_nested_dictionary()"
   ]
  },
  {
   "cell_type": "code",
   "execution_count": 6,
   "metadata": {
    "collapsed": false
   },
   "outputs": [
    {
     "data": {
      "text/plain": [
       "dict_keys(['HLA-B5101', 'H-2-KD', 'HLA-A3002', 'HLA-A0210', 'Patr-B0101', 'HLA-A0206', 'Mamu-B17', 'HLA-A0203', 'HLA-B2702', 'HLA-A8001', 'HLA-B4002', 'H-2-DD', 'HLA-A1101', 'HLA-A0201', 'H-2-LD', 'HLA-B4501', 'HLA-A0205', 'HLA-A0202', 'HLA-A0212', 'HLA-B5301', 'HLA-A6901', 'HLA-B0802', 'HLA-B5802', 'HLA-A11', 'HLA-B1402', 'HLA-A2', 'HLA-A0207', 'H-2-KB', 'HLA-B3508', 'HLA-A6801', 'HLA-A0302', 'Patr-A0602', 'HLA-A0301', 'HLA-A3101', 'HLA-A0216', 'Mamu-A02', 'HLA-B4001', 'Patr-B0901', 'HLA-B1509', 'HLA-B0801', 'HLA-A2601', 'HLA-B4402', 'HLA-A26', 'Patr-B2401', 'HLA-B3501', 'HLA-A0219', 'HLA-A2301', 'HLA-B2705', 'HLA-A0211', 'HLA-B2703', 'Mamu-A2201', 'HLA-B1503', 'HLA-B4601', 'ELA-A1', 'HLA-B4801', 'HLA-A2403', 'HLA-B4403', 'Patr-B1301', 'Mamu-B08', 'HLA-B1501', 'HLA-B3503', 'HLA-B0702', 'Mamu-A2601', 'HLA-A2902', 'HLA-A6802', 'Mamu-A07', 'HLA-A0101', 'HLA-B44', 'HLA-A2602', 'Patr-A0901', 'HLA-B3801', 'HLA-E0101', 'Mamu-B03', 'H-2-DB', 'HLA-B4201', 'HLA-A3301', 'HLA-B5701', 'HLA-A2603', 'Mamu-B52', 'Patr-A0101', 'HLA-B1502', 'HLA-B7', 'Gogo-B0101', 'HLA-A3001', 'H-2-KK', 'HLA-B1517', 'Patr-B1701', 'HLA-B3901', 'Mamu-A11', 'HLA-B7301', 'Mamu-B04', 'HLA-A6601', 'HLA-A2501', 'Patr-A0401', 'Mamu-B01', 'HLA-A3201', 'HLA-B0803', 'Patr-A0701', 'HLA-B5801', 'Patr-A0301', 'Mamu-A01', 'HLA-A2402', 'HLA-B1801', 'HLA-A0250', 'HLA-B5401', 'HLA-B2701'])"
      ]
     },
     "execution_count": 6,
     "metadata": {},
     "output_type": "execute_result"
    }
   ],
   "source": [
    "bd2009_dict.keys()"
   ]
  },
  {
   "cell_type": "code",
   "execution_count": 47,
   "metadata": {
    "collapsed": false
   },
   "outputs": [],
   "source": [
    "from mhcflurry.imputation_helpers import imputer_from_name\n",
    "from fancyimpute import MICE\n",
    "\n",
    "imputation_algos = {\n",
    "    name: imputer_from_name(name, min_value=0)\n",
    "    for name in [\"knn\", \"softimpute\", \"svd\"]\n",
    "}\n",
    "\n",
    "imputation_algos[\"mice-burnin5-iters25\"] = MICE(\n",
    "    n_burn_in=5,\n",
    "    n_imputations=25)\n",
    "\n",
    "imputation_algos[\"mice-burnin10-iters25\"] = MICE(\n",
    "    n_burn_in=10,\n",
    "    n_imputations=25)\n",
    "\n",
    "\n",
    "imputation_algos[\"mice-burnin10-iters50\"] = MICE(\n",
    "    n_burn_in=10,\n",
    "    n_imputations=50)\n",
    "\n",
    "imputation_algos[\"mice-sparse5-burnin5-iters25\"] = MICE(\n",
    "    n_burn_in=5,\n",
    "    n_imputations=25,\n",
    "    n_nearest_columns=5)\n",
    "\n",
    "imputation_algos[\"mice-sparse25-burnin5-iters25\"] = MICE(\n",
    "    n_burn_in=5,\n",
    "    n_imputations=25,\n",
    "    n_nearest_columns=25)\n",
    "\n",
    "imputation_algos[\"mice-sparse5-burnin5-iters50\"] = MICE(\n",
    "    n_burn_in=5,\n",
    "    n_imputations=50,\n",
    "    n_nearest_columns=5)\n",
    "\n",
    "\n",
    "imputation_algos[\"mice-sparse25-burnin5-iters50\"] = MICE(\n",
    "    n_burn_in=5,\n",
    "    n_imputations=50,\n",
    "    n_nearest_columns=25)\n",
    "\n",
    "\n",
    "imputation_algos[\"mice-sparse25-burnin5-iters50\"] = MICE(\n",
    "    n_burn_in=5,\n",
    "    n_imputations=50,\n",
    "    n_nearest_columns=25)\n",
    "\n"
   ]
  },
  {
   "cell_type": "code",
   "execution_count": 48,
   "metadata": {
    "collapsed": false
   },
   "outputs": [
    {
     "data": {
      "text/plain": [
       "KendalltauResult(correlation=-0.33333333333333326, pvalue=0.60150814411369402)"
      ]
     },
     "execution_count": 48,
     "metadata": {},
     "output_type": "execute_result"
    }
   ],
   "source": [
    "from sklearn.metrics import f1_score, roc_auc_score \n",
    "from scipy.stats import kendalltau\n",
    "\n",
    "kendalltau([0.908, 0.2, -3], [0.38, -1, 0.4])"
   ]
  },
  {
   "cell_type": "code",
   "execution_count": 49,
   "metadata": {
    "collapsed": false
   },
   "outputs": [],
   "source": [
    "\n",
    "def evaluate_imputed_ic50s(imputed_dataset, test_dataset, binding_cutoff=500.0, filename=None):\n",
    "    \"\"\"\n",
    "    Keep only pMHCs contained in both datasets, returns DataFrame with the following columns:\n",
    "        - allele\n",
    "        - peptide\n",
    "        - test_ic50\n",
    "        - imputed_ic50\n",
    "    \"\"\"\n",
    "    imputed_dict = imputed_dataset.to_nested_dictionary()\n",
    "    test_ic50s = []\n",
    "    imputed_ic50s = []\n",
    "    for (allele, peptide, ic50) in zip(test_dataset.alleles, test_dataset.peptides, test_dataset.affinities):\n",
    "        allele_dict = imputed_dict.get(allele, {})\n",
    "        if peptide in allele_dict:\n",
    "            imputed_ic50 = allele_dict[peptide]\n",
    "        else:\n",
    "            continue\n",
    "        test_ic50s.append(ic50)\n",
    "        imputed_ic50s.append(imputed_ic50)\n",
    "    test_ic50s = np.asarray(test_ic50s)\n",
    "    imputed_ic50s = np.asarray(imputed_ic50s)\n",
    "    print(\"Keeping %d of %d imputed values, %d test values\" % (\n",
    "        len(test_ic50s),\n",
    "        len(imputed_dataset),\n",
    "        len(test_dataset)))\n",
    "    return dict(\n",
    "        f1=f1_score(y_true=test_ic50s<=binding_cutoff, y_pred=imputed_ic50s<=binding_cutoff),\n",
    "        auc=roc_auc_score(y_true=test_ic50s<=binding_cutoff, y_score=-imputed_ic50s),\n",
    "        tau=kendalltau(test_ic50s, imputed_ic50s).correlation\n",
    "    )\n",
    "\n",
    "def evaluate_imputation_method(imputer, train, test):\n",
    "    \"\"\"\n",
    "    Returns dictionary with \"auc\", \"f1\", \"tau\" keys.\n",
    "    \"\"\"\n",
    "    train_imputed = train.impute_missing_values(\n",
    "        imputation_method=imputer,\n",
    "        min_observations_per_peptide=2,\n",
    "        min_observations_per_allele=2)\n",
    "    return evaluate_imputed_ic50s(imputed_dataset=train_imputed, test_dataset=test)\n",
    "\n",
    "def scores_generator(all_data, imputation_algos, n_folds=3):\n",
    "    \"\"\"\n",
    "    Generator yields (imputer_name, cv_fold_idx, scores_dict)\n",
    "    \"\"\"\n",
    "    for i, (train, test) in enumerate(all_data.cross_validation_iterator(n_folds=n_folds)):\n",
    "        print(\"=== CV fold %d/%d\" % (i + 1, n_folds))\n",
    "        for name, imputer in imputation_algos.items():\n",
    "            print(\"--> Running imputation algorithm %s\" % name)\n",
    "            scores = evaluate_imputation_method(imputer, train, test)\n",
    "            print(scores)\n",
    "            yield (name, i, scores)\n",
    "\n",
    "def evaluate_imputation_methods(filename, all_data, imputation_algos, n_folds=3):\n",
    "    \"\"\"\n",
    "    Writes out results to filename and also returns dictionary from algorithms to score collections.\n",
    "    \"\"\"\n",
    "    f = open(filename, \"w\")\n",
    "    f.write(\"imputation_algorithm,cv_fold,f1,tau,auc\\n\")\n",
    "    results = defaultdict(list)\n",
    "    for name, cv_fold_idx, scores in scores_generator(all_data, imputation_algos, n_folds):\n",
    "        line = \"%s,%d,%f,%f,%f\\n\" % (name, cv_fold_idx, scores[\"f1\"], scores[\"tau\"], scores[\"auc\"])\n",
    "        print(line)\n",
    "        f.write(line)\n",
    "        f.flush()\n",
    "        results[name].append(scores)\n",
    "    f.close()\n",
    "    return results"
   ]
  },
  {
   "cell_type": "code",
   "execution_count": null,
   "metadata": {
    "collapsed": false
   },
   "outputs": [
    {
     "name": "stdout",
     "output_type": "stream",
     "text": [
      "=== CV fold 1/3\n",
      "--> Running imputation algorithm mice-burnin5-iters25\n",
      "Dropping 11113 peptides with <2 observations\n",
      "Dropping 9 alleles with <2 observations: ['ELA-A1', 'HLA-B2701', 'HLA-B3508', 'HLA-B4201', 'HLA-B44', 'Mamu-A07', 'Mamu-B04', 'Patr-A0602', 'Patr-B1701']\n",
      "[MICE] Completing matrix with shape (15655, 95)\n",
      "[MICE] Starting imputation round 1/30, elapsed time 0.047\n",
      "[MICE] Starting imputation round 2/30, elapsed time 3.708\n",
      "[MICE] Starting imputation round 3/30, elapsed time 7.330\n",
      "[MICE] Starting imputation round 4/30, elapsed time 11.206\n",
      "[MICE] Starting imputation round 5/30, elapsed time 14.837\n",
      "[MICE] Starting imputation round 6/30, elapsed time 18.625\n",
      "[MICE] Starting imputation round 7/30, elapsed time 22.519\n",
      "[MICE] Starting imputation round 8/30, elapsed time 26.480\n",
      "[MICE] Starting imputation round 9/30, elapsed time 30.414\n",
      "[MICE] Starting imputation round 10/30, elapsed time 34.524\n",
      "[MICE] Starting imputation round 11/30, elapsed time 38.387\n",
      "[MICE] Starting imputation round 12/30, elapsed time 42.512\n",
      "[MICE] Starting imputation round 13/30, elapsed time 46.885\n",
      "[MICE] Starting imputation round 14/30, elapsed time 50.729\n",
      "[MICE] Starting imputation round 15/30, elapsed time 54.445\n",
      "[MICE] Starting imputation round 16/30, elapsed time 58.134\n",
      "[MICE] Starting imputation round 17/30, elapsed time 61.835\n",
      "[MICE] Starting imputation round 18/30, elapsed time 65.711\n",
      "[MICE] Starting imputation round 19/30, elapsed time 69.797\n",
      "[MICE] Starting imputation round 20/30, elapsed time 73.877\n",
      "[MICE] Starting imputation round 21/30, elapsed time 77.772\n",
      "[MICE] Starting imputation round 22/30, elapsed time 81.798\n",
      "[MICE] Starting imputation round 23/30, elapsed time 85.576\n",
      "[MICE] Starting imputation round 24/30, elapsed time 89.441\n",
      "[MICE] Starting imputation round 25/30, elapsed time 93.543"
     ]
    }
   ],
   "source": [
    "results = evaluate_imputation_methods(\"Compare-Imputation.csv\", bd2009, imputation_algos)"
   ]
  },
  {
   "cell_type": "code",
   "execution_count": null,
   "metadata": {
    "collapsed": false
   },
   "outputs": [],
   "source": [
    "score_names = [\"f1\", \"tau\", \"auc\"]"
   ]
  },
  {
   "cell_type": "code",
   "execution_count": null,
   "metadata": {
    "collapsed": true
   },
   "outputs": [],
   "source": [
    "averages = {\n",
    "    impute_name: {\n",
    "        score_name: sum(score_dict[score_name] for score_dict in score_dicts) / len(score_dicts)\n",
    "        for score_name in score_names\n",
    "    }\n",
    "    for impute_name, score_dicts in results.items()\n",
    "}"
   ]
  },
  {
   "cell_type": "code",
   "execution_count": null,
   "metadata": {
    "collapsed": false
   },
   "outputs": [],
   "source": [
    "pd.DataFrame(averages)"
   ]
  },
  {
   "cell_type": "code",
   "execution_count": null,
   "metadata": {
    "collapsed": true
   },
   "outputs": [],
   "source": []
  },
  {
   "cell_type": "code",
   "execution_count": null,
   "metadata": {
    "collapsed": true
   },
   "outputs": [],
   "source": []
  }
 ],
 "metadata": {
  "kernelspec": {
   "display_name": "Python 3",
   "language": "python",
   "name": "python3"
  },
  "language_info": {
   "codemirror_mode": {
    "name": "ipython",
    "version": 3
   },
   "file_extension": ".py",
   "mimetype": "text/x-python",
   "name": "python",
   "nbconvert_exporter": "python",
   "pygments_lexer": "ipython3",
   "version": "3.4.3"
  }
 },
 "nbformat": 4,
 "nbformat_minor": 0
}
