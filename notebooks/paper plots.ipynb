{
 "cells": [
  {
   "cell_type": "code",
   "execution_count": 80,
   "metadata": {
    "collapsed": false
   },
   "outputs": [],
   "source": [
    "import mhcflurry, seaborn, numpy, pandas, pickle, sklearn, collections, scipy, time\n",
    "import mhcflurry.dataset\n",
    "import fancyimpute, locale\n",
    "from matplotlib import pyplot\n",
    "\n",
    "\n",
    "import sklearn.metrics\n",
    "import sklearn.cross_validation\n",
    "%matplotlib inline\n",
    "\n",
    "from matplotlib import rc\n",
    "rc('font',**{'family':'sans-serif','sans-serif':['Helvetica']})\n",
    "## for Palatino and other serif fonts use:\n",
    "#rc('font',**{'family':'serif','serif':['Palatino']})\n",
    "rc('text', usetex=True)\n",
    "\n",
    "\n",
    "def print_full(x):\n",
    "    pandas.set_option('display.max_rows', len(x))\n",
    "    print(x)\n",
    "    pandas.reset_option('display.max_rows')"
   ]
  },
  {
   "cell_type": "code",
   "execution_count": 84,
   "metadata": {
    "collapsed": false
   },
   "outputs": [
    {
     "data": {
      "image/png": "[encoded data removed]",
      "text/plain": [
       "<matplotlib.figure.Figure at 0x114aeb590>"
      ]
     },
     "metadata": {},
     "output_type": "display_data"
    }
   ],
   "source": [
    "impute_comparison = pandas.read_csv(\"../data/impute_comparison.csv\")\n",
    "\n",
    "pyplot.figure(figsize=(5,3))\n",
    "seaborn.set_style(\"whitegrid\")\n",
    "for (i, (allele, data)) in enumerate(impute_comparison.groupby(\"allele\")):\n",
    "    pyplot.subplot(2,2, i + 1, sharey=pyplot.gca())\n",
    "    grouped = data.groupby([\"train_size\", \"impute\"]).test_auc.mean().to_frame().reset_index()\n",
    "    grouped[\"std_error\"] = data.groupby([\"train_size\", \"impute\"]).test_auc.std().to_frame().reset_index().test_auc\n",
    "    for impute in [True, False]:\n",
    "        sub = grouped[grouped.impute == impute]\n",
    "        pyplot.errorbar(\n",
    "                       x=sub.train_size.values,\n",
    "                       y=sub.test_auc.values,\n",
    "                       yerr=sub.std_error.values,\n",
    "                       label=(\"with\" if impute else \"without\") + \" imputation\",\n",
    "                       color=seaborn.get_color_cycle()[0] if impute else seaborn.get_color_cycle()[1])    \n",
    "    pyplot.title(allele)\n",
    "    pyplot.xscale(\"log\")\n",
    "    if i == 0:\n",
    "        pyplot.ylabel(\"AUC\")\n",
    "        pyplot.legend(loc='lower right')\n",
    "\n",
    "    if i == 2:\n",
    "        pyplot.xlabel(\"Training set size\")\n",
    "    pyplot.savefig(\"../figures/impute_comparison.pdf\")\n",
    "\n",
    "#pyplot.legend(loc='lower right', ncol=1, bbox_to_anchor=(2.2,.1))\n",
    "\n",
    "pyplot.tight_layout()\n"
   ]
  },
  {
   "cell_type": "code",
   "execution_count": null,
   "metadata": {
    "collapsed": true
   },
   "outputs": [],
   "source": []
  }
 ],
 "metadata": {
  "kernelspec": {
   "display_name": "Python 2",
   "language": "python",
   "name": "python2"
  },
  "language_info": {
   "codemirror_mode": {
    "name": "ipython",
    "version": 2
   },
   "file_extension": ".py",
   "mimetype": "text/x-python",
   "name": "python",
   "nbconvert_exporter": "python",
   "pygments_lexer": "ipython2",
   "version": "2.7.10"
  }
 },
 "nbformat": 4,
 "nbformat_minor": 0
}
