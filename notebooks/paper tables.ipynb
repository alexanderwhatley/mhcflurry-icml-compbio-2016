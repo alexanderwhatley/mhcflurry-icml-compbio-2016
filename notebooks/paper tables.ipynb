{
 "cells": [
  {
   "cell_type": "code",
   "execution_count": 3,
   "metadata": {
    "collapsed": false
   },
   "outputs": [],
   "source": [
    "import mhcflurry, seaborn, numpy, pandas, pickle, sklearn, collections, scipy, time\n",
    "import mhcflurry.data\n",
    "import mhcflurry.imputation\n",
    "import fancyimpute, locale\n",
    "\n",
    "import sklearn.metrics\n",
    "import sklearn.cross_validation\n",
    "\n"
   ]
  },
  {
   "cell_type": "code",
   "execution_count": 4,
   "metadata": {
    "collapsed": true
   },
   "outputs": [],
   "source": [
    "min_peptides_to_consider_allele = 10\n",
    "max_ic50 = 50000"
   ]
  },
  {
   "cell_type": "code",
   "execution_count": 5,
   "metadata": {
    "collapsed": true
   },
   "outputs": [],
   "source": [
    "all_train_data = mhcflurry.data.load_allele_datasets(\"../data/bdata.2009.mhci.public.1.txt\")\n",
    "all_validation_data = mhcflurry.data.load_allele_datasets(\"../data/bdata.2013.mhci.public.blind.1.txt\")\n"
   ]
  },
  {
   "cell_type": "code",
   "execution_count": 6,
   "metadata": {
    "collapsed": true
   },
   "outputs": [],
   "source": [
    "alleles = [allele for allele in all_train_data if len(all_train_data[allele].Y) >= min_peptides_to_consider_allele]"
   ]
  },
  {
   "cell_type": "code",
   "execution_count": 7,
   "metadata": {
    "collapsed": false
   },
   "outputs": [
    {
     "data": {
      "text/plain": [
       "AlleleData(X_index=array([[ 0,  0,  0, ..., 13,  6,  9],\n",
       "       [ 0,  0,  0, ...,  0, 12,  9],\n",
       "       [ 0,  0,  2, ..., 16, 15, 20],\n",
       "       ..., \n",
       "       [20, 18,  7, ...,  8,  7,  7],\n",
       "       [20, 18, 10, ..., 16, 20,  4],\n",
       "       [20, 20,  4, ...,  9,  4, 17]]), X_binary=array([[ 1.,  0.,  0., ...,  0.,  0.,  0.],\n",
       "       [ 1.,  0.,  0., ...,  0.,  0.,  0.],\n",
       "       [ 1.,  0.,  0., ...,  0.,  0.,  1.],\n",
       "       ..., \n",
       "       [ 0.,  0.,  0., ...,  0.,  0.,  0.],\n",
       "       [ 0.,  0.,  0., ...,  0.,  0.,  0.],\n",
       "       [ 0.,  0.,  0., ...,  0.,  0.,  0.]]), Y=array([ 0.21249889,  0.08468665,  0.08468665, ...,  0.        ,\n",
       "        0.35084077,  0.55012623]), peptides=array(['AAAFVNQHL', 'AAAQGQAPL', 'AADSFATSY', ..., 'YWIREGKII',\n",
       "       'YWMGGTTYF', 'YYFSYPLFV'], \n",
       "      dtype='<U9'), ic50=array([  5017.,  20000.,  20000., ...,  78125.,   1123.,    130.]), original_peptides=array(['AAAFVNQHL', 'AAAQGQAPL', 'AADSFATSY', ..., 'YWIREGKII',\n",
       "       'YWMGGTTYF', 'YYFSYPLFV'], \n",
       "      dtype='<U10'), original_lengths=array([9, 9, 9, ..., 9, 9, 9]), substring_counts=array([1, 1, 1, ..., 1, 1, 1]), weights=array([ 1.,  1.,  1., ...,  1.,  1.,  1.]), max_ic50=50000.0)"
      ]
     },
     "execution_count": 7,
     "metadata": {},
     "output_type": "execute_result"
    }
   ],
   "source": [
    "all_validation_data[\"HLA-A0201\"]"
   ]
  },
  {
   "cell_type": "code",
   "execution_count": 14,
   "metadata": {
    "collapsed": false
   },
   "outputs": [
    {
     "name": "stdout",
     "output_type": "stream",
     "text": [
      "\\begin{tabular}{lllll}\n",
      "\\toprule\n",
      "{} & Alleles & Alleles w/ 10+ measurements & IC50 Measurements & Expanded 9mers \\\\\n",
      "\\midrule\n",
      "BD2009 &     106 &                          98 &           137,654 &        470,170 \\\\\n",
      "BLIND  &      53 &                          53 &            27,680 &         83,752 \\\\\n",
      "\\bottomrule\n",
      "\\end{tabular}\n",
      "\n"
     ]
    }
   ],
   "source": [
    "def expanded_measurements(allele_data_dict):\n",
    "    return sum(len(x.Y) for x in allele_data_dict.values())\n",
    "\n",
    "def measurements(allele_data_dict):\n",
    "    return sum(len(set(x.original_peptides)) for x in allele_data_dict.values())\n",
    "\n",
    "def alleles_with_enough_data(allele_data_dict):\n",
    "    return len([x for x in allele_data_dict.values() if len(x.Y) >= min_peptides_to_consider_allele])\n",
    "\n",
    "def thousands(num):\n",
    "    locale.setlocale(locale.LC_ALL, 'en_US')\n",
    "    return locale.format(\"%d\", num, grouping=True)\n",
    "\n",
    "def format_pair(lst1, lst2):\n",
    "    return [\"%s (%s)\" % (thousands(a), thousands(b)) for (a,b) in zip(lst1, lst2)]\n",
    "\n",
    "description_df = pandas.DataFrame(index= [\"BD2009\", \"BLIND\"])\n",
    "description_df[\"Alleles\"] = [thousands(len(all_train_data)), thousands(len(all_validation_data))]\n",
    "description_df[\"Alleles w/ %d+ measurements\" % min_peptides_to_consider_allele] = [\n",
    "    thousands(alleles_with_enough_data(all_train_data)), \n",
    "    thousands(alleles_with_enough_data(all_validation_data))\n",
    "]\n",
    "description_df[\"IC50 Measurements\"] = [\n",
    "    thousands(measurements(all_train_data)), \n",
    "    thousands(measurements(all_validation_data))\n",
    "]\n",
    "description_df[\"Expanded 9mers\"] = [\n",
    "    thousands(expanded_measurements(all_train_data)), \n",
    "    thousands(expanded_measurements(all_validation_data))\n",
    "]\n",
    "print(description_df.to_latex(index_names=False))"
   ]
  },
  {
   "cell_type": "code",
   "execution_count": 22,
   "metadata": {
    "collapsed": true
   },
   "outputs": [],
   "source": [
    "description_df.to_latex?"
   ]
  }
 ],
 "metadata": {
  "kernelspec": {
   "display_name": "Python 3",
   "language": "python",
   "name": "python3"
  },
  "language_info": {
   "codemirror_mode": {
    "name": "ipython",
    "version": 3
   },
   "file_extension": ".py",
   "mimetype": "text/x-python",
   "name": "python",
   "nbconvert_exporter": "python",
   "pygments_lexer": "ipython3",
   "version": "3.4.3"
  }
 },
 "nbformat": 4,
 "nbformat_minor": 0
}
